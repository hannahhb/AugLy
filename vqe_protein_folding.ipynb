{
  "nbformat": 4,
  "nbformat_minor": 0,
  "metadata": {
    "colab": {
      "provenance": [],
      "authorship_tag": "ABX9TyMmkfDKdurJw8zgiNDlBDiD",
      "include_colab_link": true
    },
    "kernelspec": {
      "name": "python3",
      "display_name": "Python 3"
    },
    "language_info": {
      "name": "python"
    }
  },
  "cells": [
    {
      "cell_type": "markdown",
      "metadata": {
        "id": "view-in-github",
        "colab_type": "text"
      },
      "source": [
        "<a href=\"https://colab.research.google.com/github/hannahhb/AugLy/blob/main/vqe_protein_folding.ipynb\" target=\"_parent\"><img src=\"https://colab.research.google.com/assets/colab-badge.svg\" alt=\"Open In Colab\"/></a>"
      ]
    },
    {
      "cell_type": "markdown",
      "source": [
        "This is a code implementation for a CVaR - VQE algorithm to give a solution to the protein folding problem."
      ],
      "metadata": {
        "id": "e0TM7lbz7wcZ"
      }
    },
    {
      "cell_type": "markdown",
      "source": [
        "# Initialisation"
      ],
      "metadata": {
        "id": "FEEZFG3M5cv_"
      }
    },
    {
      "cell_type": "code",
      "source": [
        "!pip install pennylane pennylane-qiskit"
      ],
      "metadata": {
        "colab": {
          "base_uri": "https://localhost:8080/"
        },
        "id": "N94fpk_h4Pr9",
        "outputId": "6f4b1571-f769-494e-8f43-94a63c201d39"
      },
      "execution_count": 9,
      "outputs": [
        {
          "output_type": "stream",
          "name": "stdout",
          "text": [
            "Collecting pennylane\n",
            "  Downloading PennyLane-0.34.0-py3-none-any.whl (1.6 MB)\n",
            "\u001b[2K     \u001b[90m━━━━━━━━━━━━━━━━━━━━━━━━━━━━━━━━━━━━━━━━\u001b[0m \u001b[32m1.6/1.6 MB\u001b[0m \u001b[31m9.7 MB/s\u001b[0m eta \u001b[36m0:00:00\u001b[0m\n",
            "\u001b[?25hCollecting pennylane-qiskit\n",
            "  Downloading PennyLane_qiskit-0.34.0-py3-none-any.whl (28 kB)\n",
            "Requirement already satisfied: numpy in /usr/local/lib/python3.10/dist-packages (from pennylane) (1.25.2)\n",
            "Requirement already satisfied: scipy in /usr/local/lib/python3.10/dist-packages (from pennylane) (1.11.4)\n",
            "Requirement already satisfied: networkx in /usr/local/lib/python3.10/dist-packages (from pennylane) (3.2.1)\n",
            "Collecting rustworkx (from pennylane)\n",
            "  Downloading rustworkx-0.14.0-cp310-cp310-manylinux_2_17_x86_64.manylinux2014_x86_64.whl (2.2 MB)\n",
            "\u001b[2K     \u001b[90m━━━━━━━━━━━━━━━━━━━━━━━━━━━━━━━━━━━━━━━━\u001b[0m \u001b[32m2.2/2.2 MB\u001b[0m \u001b[31m17.2 MB/s\u001b[0m eta \u001b[36m0:00:00\u001b[0m\n",
            "\u001b[?25hRequirement already satisfied: autograd in /usr/local/lib/python3.10/dist-packages (from pennylane) (1.6.2)\n",
            "Requirement already satisfied: toml in /usr/local/lib/python3.10/dist-packages (from pennylane) (0.10.2)\n",
            "Requirement already satisfied: appdirs in /usr/local/lib/python3.10/dist-packages (from pennylane) (1.4.4)\n",
            "Collecting semantic-version>=2.7 (from pennylane)\n",
            "  Downloading semantic_version-2.10.0-py2.py3-none-any.whl (15 kB)\n",
            "Collecting autoray>=0.6.1 (from pennylane)\n",
            "  Downloading autoray-0.6.8-py3-none-any.whl (49 kB)\n",
            "\u001b[2K     \u001b[90m━━━━━━━━━━━━━━━━━━━━━━━━━━━━━━━━━━━━━━━━\u001b[0m \u001b[32m49.9/49.9 kB\u001b[0m \u001b[31m6.2 MB/s\u001b[0m eta \u001b[36m0:00:00\u001b[0m\n",
            "\u001b[?25hRequirement already satisfied: cachetools in /usr/local/lib/python3.10/dist-packages (from pennylane) (5.3.2)\n",
            "Collecting pennylane-lightning>=0.34 (from pennylane)\n",
            "  Downloading PennyLane_Lightning-0.34.0-cp310-cp310-manylinux_2_17_x86_64.manylinux2014_x86_64.whl (18.1 MB)\n",
            "\u001b[2K     \u001b[90m━━━━━━━━━━━━━━━━━━━━━━━━━━━━━━━━━━━━━━━━\u001b[0m \u001b[32m18.1/18.1 MB\u001b[0m \u001b[31m43.1 MB/s\u001b[0m eta \u001b[36m0:00:00\u001b[0m\n",
            "\u001b[?25hRequirement already satisfied: requests in /usr/local/lib/python3.10/dist-packages (from pennylane) (2.31.0)\n",
            "Requirement already satisfied: typing-extensions in /usr/local/lib/python3.10/dist-packages (from pennylane) (4.9.0)\n",
            "Collecting qiskit>=0.32 (from pennylane-qiskit)\n",
            "  Downloading qiskit-1.0.0-cp38-abi3-manylinux_2_17_x86_64.manylinux2014_x86_64.whl (5.6 MB)\n",
            "\u001b[2K     \u001b[90m━━━━━━━━━━━━━━━━━━━━━━━━━━━━━━━━━━━━━━━━\u001b[0m \u001b[32m5.6/5.6 MB\u001b[0m \u001b[31m68.2 MB/s\u001b[0m eta \u001b[36m0:00:00\u001b[0m\n",
            "\u001b[?25hCollecting qiskit-aer (from pennylane-qiskit)\n",
            "  Downloading qiskit_aer-0.13.3-cp310-cp310-manylinux_2_17_x86_64.manylinux2014_x86_64.whl (12.3 MB)\n",
            "\u001b[2K     \u001b[90m━━━━━━━━━━━━━━━━━━━━━━━━━━━━━━━━━━━━━━━━\u001b[0m \u001b[32m12.3/12.3 MB\u001b[0m \u001b[31m26.7 MB/s\u001b[0m eta \u001b[36m0:00:00\u001b[0m\n",
            "\u001b[?25hCollecting qiskit-ibm-runtime (from pennylane-qiskit)\n",
            "  Downloading qiskit_ibm_runtime-0.19.1-py3-none-any.whl (1.8 MB)\n",
            "\u001b[2K     \u001b[90m━━━━━━━━━━━━━━━━━━━━━━━━━━━━━━━━━━━━━━━━\u001b[0m \u001b[32m1.8/1.8 MB\u001b[0m \u001b[31m80.0 MB/s\u001b[0m eta \u001b[36m0:00:00\u001b[0m\n",
            "\u001b[?25hCollecting qiskit-ibm-provider (from pennylane-qiskit)\n",
            "  Downloading qiskit_ibm_provider-0.9.0-py3-none-any.whl (249 kB)\n",
            "\u001b[2K     \u001b[90m━━━━━━━━━━━━━━━━━━━━━━━━━━━━━━━━━━━━━━━━\u001b[0m \u001b[32m249.3/249.3 kB\u001b[0m \u001b[31m31.4 MB/s\u001b[0m eta \u001b[36m0:00:00\u001b[0m\n",
            "\u001b[?25hRequirement already satisfied: sympy>=1.3 in /usr/local/lib/python3.10/dist-packages (from qiskit>=0.32->pennylane-qiskit) (1.12)\n",
            "Collecting dill>=0.3 (from qiskit>=0.32->pennylane-qiskit)\n",
            "  Downloading dill-0.3.8-py3-none-any.whl (116 kB)\n",
            "\u001b[2K     \u001b[90m━━━━━━━━━━━━━━━━━━━━━━━━━━━━━━━━━━━━━━━━\u001b[0m \u001b[32m116.3/116.3 kB\u001b[0m \u001b[31m17.1 MB/s\u001b[0m eta \u001b[36m0:00:00\u001b[0m\n",
            "\u001b[?25hRequirement already satisfied: python-dateutil>=2.8.0 in /usr/local/lib/python3.10/dist-packages (from qiskit>=0.32->pennylane-qiskit) (2.8.2)\n",
            "Collecting stevedore>=3.0.0 (from qiskit>=0.32->pennylane-qiskit)\n",
            "  Downloading stevedore-5.1.0-py3-none-any.whl (49 kB)\n",
            "\u001b[2K     \u001b[90m━━━━━━━━━━━━━━━━━━━━━━━━━━━━━━━━━━━━━━━━\u001b[0m \u001b[32m49.6/49.6 kB\u001b[0m \u001b[31m6.4 MB/s\u001b[0m eta \u001b[36m0:00:00\u001b[0m\n",
            "\u001b[?25hCollecting symengine>=0.11 (from qiskit>=0.32->pennylane-qiskit)\n",
            "  Downloading symengine-0.11.0-cp310-cp310-manylinux_2_12_x86_64.manylinux2010_x86_64.whl (39.4 MB)\n",
            "\u001b[2K     \u001b[90m━━━━━━━━━━━━━━━━━━━━━━━━━━━━━━━━━━━━━━━━\u001b[0m \u001b[32m39.4/39.4 MB\u001b[0m \u001b[31m12.9 MB/s\u001b[0m eta \u001b[36m0:00:00\u001b[0m\n",
            "\u001b[?25hRequirement already satisfied: future>=0.15.2 in /usr/local/lib/python3.10/dist-packages (from autograd->pennylane) (0.18.3)\n",
            "Requirement already satisfied: psutil>=5 in /usr/local/lib/python3.10/dist-packages (from qiskit-aer->pennylane-qiskit) (5.9.5)\n",
            "Collecting requests-ntlm>=1.1.0 (from qiskit-ibm-provider->pennylane-qiskit)\n",
            "  Downloading requests_ntlm-1.2.0-py3-none-any.whl (6.0 kB)\n",
            "Requirement already satisfied: urllib3>=1.21.1 in /usr/local/lib/python3.10/dist-packages (from qiskit-ibm-provider->pennylane-qiskit) (2.0.7)\n",
            "Requirement already satisfied: websocket-client>=1.5.1 in /usr/local/lib/python3.10/dist-packages (from qiskit-ibm-provider->pennylane-qiskit) (1.7.0)\n",
            "Collecting websockets>=10.0 (from qiskit-ibm-provider->pennylane-qiskit)\n",
            "  Downloading websockets-12.0-cp310-cp310-manylinux_2_5_x86_64.manylinux1_x86_64.manylinux_2_17_x86_64.manylinux2014_x86_64.whl (130 kB)\n",
            "\u001b[2K     \u001b[90m━━━━━━━━━━━━━━━━━━━━━━━━━━━━━━━━━━━━━━━━\u001b[0m \u001b[32m130.2/130.2 kB\u001b[0m \u001b[31m18.0 MB/s\u001b[0m eta \u001b[36m0:00:00\u001b[0m\n",
            "\u001b[?25hRequirement already satisfied: charset-normalizer<4,>=2 in /usr/local/lib/python3.10/dist-packages (from requests->pennylane) (3.3.2)\n",
            "Requirement already satisfied: idna<4,>=2.5 in /usr/local/lib/python3.10/dist-packages (from requests->pennylane) (3.6)\n",
            "Requirement already satisfied: certifi>=2017.4.17 in /usr/local/lib/python3.10/dist-packages (from requests->pennylane) (2024.2.2)\n",
            "Collecting ibm-platform-services>=0.22.6 (from qiskit-ibm-runtime->pennylane-qiskit)\n",
            "  Downloading ibm-platform-services-0.51.0.tar.gz (315 kB)\n",
            "\u001b[2K     \u001b[90m━━━━━━━━━━━━━━━━━━━━━━━━━━━━━━━━━━━━━━━━\u001b[0m \u001b[32m315.1/315.1 kB\u001b[0m \u001b[31m35.3 MB/s\u001b[0m eta \u001b[36m0:00:00\u001b[0m\n",
            "\u001b[?25h  Installing build dependencies ... \u001b[?25l\u001b[?25hdone\n",
            "  Getting requirements to build wheel ... \u001b[?25l\u001b[?25hdone\n",
            "  Preparing metadata (pyproject.toml) ... \u001b[?25l\u001b[?25hdone\n",
            "Collecting ibm-cloud-sdk-core<4.0.0,>=3.19.1 (from ibm-platform-services>=0.22.6->qiskit-ibm-runtime->pennylane-qiskit)\n",
            "  Downloading ibm-cloud-sdk-core-3.19.1.tar.gz (59 kB)\n",
            "\u001b[2K     \u001b[90m━━━━━━━━━━━━━━━━━━━━━━━━━━━━━━━━━━━━━━━━\u001b[0m \u001b[32m59.1/59.1 kB\u001b[0m \u001b[31m9.2 MB/s\u001b[0m eta \u001b[36m0:00:00\u001b[0m\n",
            "\u001b[?25h  Installing build dependencies ... \u001b[?25l\u001b[?25hdone\n",
            "  Getting requirements to build wheel ... \u001b[?25l\u001b[?25hdone\n",
            "  Preparing metadata (pyproject.toml) ... \u001b[?25l\u001b[?25hdone\n",
            "Requirement already satisfied: six>=1.5 in /usr/local/lib/python3.10/dist-packages (from python-dateutil>=2.8.0->qiskit>=0.32->pennylane-qiskit) (1.16.0)\n",
            "Requirement already satisfied: cryptography>=1.3 in /usr/local/lib/python3.10/dist-packages (from requests-ntlm>=1.1.0->qiskit-ibm-provider->pennylane-qiskit) (42.0.2)\n",
            "Collecting pyspnego>=0.1.6 (from requests-ntlm>=1.1.0->qiskit-ibm-provider->pennylane-qiskit)\n",
            "  Downloading pyspnego-0.10.2-py3-none-any.whl (129 kB)\n",
            "\u001b[2K     \u001b[90m━━━━━━━━━━━━━━━━━━━━━━━━━━━━━━━━━━━━━━━━\u001b[0m \u001b[32m129.9/129.9 kB\u001b[0m \u001b[31m17.8 MB/s\u001b[0m eta \u001b[36m0:00:00\u001b[0m\n",
            "\u001b[?25hCollecting pbr!=2.1.0,>=2.0.0 (from stevedore>=3.0.0->qiskit>=0.32->pennylane-qiskit)\n",
            "  Downloading pbr-6.0.0-py2.py3-none-any.whl (107 kB)\n",
            "\u001b[2K     \u001b[90m━━━━━━━━━━━━━━━━━━━━━━━━━━━━━━━━━━━━━━━━\u001b[0m \u001b[32m107.5/107.5 kB\u001b[0m \u001b[31m16.4 MB/s\u001b[0m eta \u001b[36m0:00:00\u001b[0m\n",
            "\u001b[?25hRequirement already satisfied: mpmath>=0.19 in /usr/local/lib/python3.10/dist-packages (from sympy>=1.3->qiskit>=0.32->pennylane-qiskit) (1.3.0)\n",
            "Requirement already satisfied: cffi>=1.12 in /usr/local/lib/python3.10/dist-packages (from cryptography>=1.3->requests-ntlm>=1.1.0->qiskit-ibm-provider->pennylane-qiskit) (1.16.0)\n",
            "Collecting urllib3>=1.21.1 (from qiskit-ibm-provider->pennylane-qiskit)\n",
            "  Downloading urllib3-2.2.1-py3-none-any.whl (121 kB)\n",
            "\u001b[2K     \u001b[90m━━━━━━━━━━━━━━━━━━━━━━━━━━━━━━━━━━━━━━━━\u001b[0m \u001b[32m121.1/121.1 kB\u001b[0m \u001b[31m16.4 MB/s\u001b[0m eta \u001b[36m0:00:00\u001b[0m\n",
            "\u001b[?25hCollecting PyJWT<3.0.0,>=2.8.0 (from ibm-cloud-sdk-core<4.0.0,>=3.19.1->ibm-platform-services>=0.22.6->qiskit-ibm-runtime->pennylane-qiskit)\n",
            "  Downloading PyJWT-2.8.0-py3-none-any.whl (22 kB)\n",
            "Requirement already satisfied: pycparser in /usr/local/lib/python3.10/dist-packages (from cffi>=1.12->cryptography>=1.3->requests-ntlm>=1.1.0->qiskit-ibm-provider->pennylane-qiskit) (2.21)\n",
            "Building wheels for collected packages: ibm-platform-services, ibm-cloud-sdk-core\n",
            "  Building wheel for ibm-platform-services (pyproject.toml) ... \u001b[?25l\u001b[?25hdone\n",
            "  Created wheel for ibm-platform-services: filename=ibm_platform_services-0.51.0-py3-none-any.whl size=330668 sha256=baea6eabf2a45786765c81ebef3434ffff312f1b0dbb34c1569fabab1b85d217\n",
            "  Stored in directory: /root/.cache/pip/wheels/7c/53/36/c4d472580ad72eeaa5e00992b6ea127cd61b02c770fe0b56b6\n",
            "  Building wheel for ibm-cloud-sdk-core (pyproject.toml) ... \u001b[?25l\u001b[?25hdone\n",
            "  Created wheel for ibm-cloud-sdk-core: filename=ibm_cloud_sdk_core-3.19.1-py3-none-any.whl size=95828 sha256=f2df6f1f23c628a3c7d1915e8ff2bedbdfb63f99b89f50863f7e8bb403efbd8f\n",
            "  Stored in directory: /root/.cache/pip/wheels/d9/b9/b2/2316e6df1fb93353a388ef07032b10655ca871c173b241e788\n",
            "Successfully built ibm-platform-services ibm-cloud-sdk-core\n",
            "Installing collected packages: websockets, urllib3, symengine, semantic-version, rustworkx, PyJWT, pbr, dill, autoray, stevedore, qiskit, pyspnego, ibm-cloud-sdk-core, requests-ntlm, qiskit-aer, ibm-platform-services, qiskit-ibm-runtime, qiskit-ibm-provider, pennylane-lightning, pennylane, pennylane-qiskit\n",
            "  Attempting uninstall: urllib3\n",
            "    Found existing installation: urllib3 2.0.7\n",
            "    Uninstalling urllib3-2.0.7:\n",
            "      Successfully uninstalled urllib3-2.0.7\n",
            "  Attempting uninstall: PyJWT\n",
            "    Found existing installation: PyJWT 2.3.0\n",
            "    Uninstalling PyJWT-2.3.0:\n",
            "      Successfully uninstalled PyJWT-2.3.0\n",
            "Successfully installed PyJWT-2.8.0 autoray-0.6.8 dill-0.3.8 ibm-cloud-sdk-core-3.19.1 ibm-platform-services-0.51.0 pbr-6.0.0 pennylane-0.34.0 pennylane-lightning-0.34.0 pennylane-qiskit-0.34.0 pyspnego-0.10.2 qiskit-1.0.0 qiskit-aer-0.13.3 qiskit-ibm-provider-0.9.0 qiskit-ibm-runtime-0.19.1 requests-ntlm-1.2.0 rustworkx-0.14.0 semantic-version-2.10.0 stevedore-5.1.0 symengine-0.11.0 urllib3-2.2.1 websockets-12.0\n"
          ]
        }
      ]
    },
    {
      "cell_type": "code",
      "source": [
        "import numpy as np\n",
        "import pennylane as qml\n"
      ],
      "metadata": {
        "id": "imhdHDF9_0Pv"
      },
      "execution_count": null,
      "outputs": []
    },
    {
      "cell_type": "code",
      "execution_count": 1,
      "metadata": {
        "id": "R4urZ23r32qg"
      },
      "outputs": [],
      "source": [
        "# Defining hyperParams as per the given details\n",
        "hyperParams = {\n",
        "    'protein': 'APRLRFY',\n",
        "    'turn2qubit': '0100q1qqqqqq',\n",
        "    'numQubitsConfig': None,\n",
        "    'numQubitsInteraction': 2,\n",
        "    'interactionEnergy': None, # This needs to be defined based on the specific problem\n",
        "}\n",
        "\n",
        "# Calculating the number of configuration qubits\n",
        "hyperParams['numQubitsConfig'] = sum(c == 'q' for c in hyperParams['turn2qubit'])\n"
      ]
    },
    {
      "cell_type": "markdown",
      "source": [
        "# Build MJ Interaction Matrix"
      ],
      "metadata": {
        "id": "4Kjqfmwu4rY6"
      }
    },
    {
      "cell_type": "code",
      "source": [
        "\n",
        "def build_MJ_interactions(protein):\n",
        "    \"\"\"\n",
        "    Create the Miyazawa-Jernigan (MJ) interaction energy matrix for the protein,\n",
        "    specified with 1-letter amino acid codes.\n",
        "\n",
        "    Args:\n",
        "    protein (str): The protein sequence using 1-letter amino acid codes.\n",
        "\n",
        "    Returns:\n",
        "    numpy.ndarray: The interaction energy matrix for the given protein.\n",
        "    \"\"\"\n",
        "    N = len(protein)\n",
        "    mat = np.zeros((N, N))\n",
        "    np.random.seed(29507)\n",
        "    MJ = np.random.rand(20, 20) * -6\n",
        "    MJ = np.triu(MJ) + np.triu(MJ, 1).T\n",
        "    acids = [\"C\", \"M\", \"F\", \"I\", \"L\", \"V\", \"W\", \"Y\", \"A\", \"G\", \"T\", \"S\", \"N\", \"Q\", \"D\", \"E\", \"H\", \"R\", \"K\", \"P\"]\n",
        "    acid2idx = {acid: idx for idx, acid in enumerate(acids)}\n",
        "\n",
        "    for i in range(N):\n",
        "        for j in range(N):\n",
        "            mat[i, j] = MJ[acid2idx[protein[i]], acid2idx[protein[j]]]\n",
        "\n",
        "    return mat\n"
      ],
      "metadata": {
        "id": "j9qvfETC4q6s"
      },
      "execution_count": 6,
      "outputs": []
    },
    {
      "cell_type": "code",
      "source": [
        "hyperParams['numQubitsConfig'] = sum(c == 'q' for c in hyperParams['turn2qubit'])\n",
        "hyperParams['interactionEnergy'] = build_MJ_interactions(hyperParams['protein'])"
      ],
      "metadata": {
        "id": "2MpazCdf4vLl"
      },
      "execution_count": 7,
      "outputs": []
    },
    {
      "cell_type": "markdown",
      "source": [
        "# Function to calculate energy of folds"
      ],
      "metadata": {
        "id": "Ivr9_wjd48AD"
      }
    },
    {
      "cell_type": "markdown",
      "source": [
        "currently this code only implements a 1 nearest neighbor model for the amino acid chain"
      ],
      "metadata": {
        "id": "BTAEUKS05Jx2"
      }
    },
    {
      "cell_type": "code",
      "source": [
        "\n",
        "def exact_hamiltonian(bitstrings, hyperParams):\n",
        "    \"\"\"\n",
        "    Compute the Hamiltonian for each bit string (i.e., the energy for each fold).\n",
        "    This does not consider the Hch constraint from side-chains and the interaction term\n",
        "    is only 1-nearest-neighbor (1-NN).\n",
        "    \"\"\"\n",
        "    lambdaDis = 720    # Penalty for interaction distance\n",
        "    lambdaLoc = 20     # Penalty for interaction location\n",
        "    lambdaBack = 50    # Penalty for unphysical geometry\n",
        "\n",
        "    energies = np.zeros(len(bitstrings))\n",
        "    numBeads = len(hyperParams['protein'])\n",
        "\n",
        "    for idx, bitstring in enumerate(bitstrings):\n",
        "        config = hyperParams['turn2qubit']\n",
        "        config = ''.join(bitstring[i] if c == 'q' else c for i, c in enumerate(config))\n",
        "        turns = np.array([int(config[i:i+2], 2) for i in range(0, len(config), 2)])\n",
        "\n",
        "        # Geometric Hamiltonian Hgc\n",
        "        energies[idx] += lambdaBack * np.sum(turns[:-1] == turns[1:])\n",
        "\n",
        "        # 1-NN Interaction Hamiltonian Hin\n",
        "        currInteractionQubit = hyperParams['numQubitsConfig']\n",
        "        for i in range(numBeads - 4):\n",
        "            for j in range(i + 5, numBeads, 2):\n",
        "                currInteractionQubit += 1\n",
        "                if bitstring[currInteractionQubit] == '0':\n",
        "                    continue\n",
        "\n",
        "                interactionEnergy = hyperParams['interactionEnergy'][i, j]\n",
        "\n",
        "                # Add the interaction energy\n",
        "                energies[idx] += interactionEnergy\n",
        "\n",
        "                # Compute distances between interacting beads\n",
        "                deltaN_ij, deltaN_ir, deltaN_mj = np.zeros(4), np.zeros(4), np.zeros(4)\n",
        "                for k in range(4):\n",
        "                    deltaN_ij[k] = np.sum((-1)**np.arange(i, j) * (turns[i:j] == k))\n",
        "                    deltaN_ir[k] = np.sum((-1)**np.arange(i, j-1) * (turns[i:j-1] == k))\n",
        "                    deltaN_mj[k] = np.sum((-1)**np.arange(i+1, j) * (turns[i+1:j] == k))\n",
        "\n",
        "                d_ij = np.linalg.norm(deltaN_ij)**2\n",
        "                d_ir = np.linalg.norm(deltaN_ir)**2\n",
        "                d_mj = np.linalg.norm(deltaN_mj)**2\n",
        "\n",
        "                # Add penalty for distance not equal to 1\n",
        "                energies[idx] += lambdaDis * (d_ij - 1)\n",
        "\n",
        "                # Add penalty for unphysical nearest neighbour collisions\n",
        "                energies[idx] += lambdaLoc * (2 - d_ir) + lambdaLoc * (2 - d_mj)\n",
        "\n",
        "                if i-1 >= 0:\n",
        "                    deltaN_mj = np.array([np.sum((-1)**np.arange(i-1, j) * (turns[i-1:j] == k)) for k in range(4)])\n",
        "                    d_mj = np.linalg.norm(deltaN_mj)**2\n",
        "                    energies[idx] += lambdaLoc * (2 - d_mj)\n",
        "\n",
        "                if j+1 <= numBeads:\n",
        "                    deltaN_ir = np.array([np.sum((-1)**np.arange(i, j+1) * (turns[i:j+1] == k)) for k in range(4)])\n",
        "                    d_ir = np.linalg.norm(deltaN_ir)**2\n",
        "                    energies[idx] += lambdaLoc * (2 - d_ir)\n",
        "\n",
        "    return energies\n"
      ],
      "metadata": {
        "id": "OpH7KvKu4xel"
      },
      "execution_count": 8,
      "outputs": []
    },
    {
      "cell_type": "markdown",
      "source": [
        "Compute Minimum Energy for All Folds [TBD]\n"
      ],
      "metadata": {
        "id": "puzPpnQY-Jd9"
      }
    },
    {
      "cell_type": "code",
      "source": [],
      "metadata": {
        "id": "qy5NebyP-Iz-"
      },
      "execution_count": null,
      "outputs": []
    },
    {
      "cell_type": "code",
      "source": [],
      "metadata": {
        "id": "gI36h3L8-L8D"
      },
      "execution_count": null,
      "outputs": []
    },
    {
      "cell_type": "markdown",
      "source": [
        "# Write CVaR-VQE Objective Function [TBD]"
      ],
      "metadata": {
        "id": "mkuGmnDa-MTt"
      }
    },
    {
      "cell_type": "code",
      "source": [],
      "metadata": {
        "id": "e02S1KpV-RD9"
      },
      "execution_count": null,
      "outputs": []
    },
    {
      "cell_type": "markdown",
      "source": [
        "# Create Circuit Anstaz"
      ],
      "metadata": {
        "id": "5emb_Bt18A0Y"
      }
    },
    {
      "cell_type": "code",
      "source": [
        "\n",
        "def ProteinConfigAnsatz(parameters):\n",
        "    \"\"\"\n",
        "    Create the circuit ansatz for a 7 amino acid neuropeptide (10 qubit circuit) with adjusted parameters handling.\n",
        "    \"\"\"\n",
        "    parameters = np.reshape(parameters, (2, 9))\n",
        "\n",
        "    # Ensure we have the correct device setup\n",
        "    n_qubits = 10\n",
        "    dev = qml.device('default.qubit', wires=n_qubits)\n",
        "\n",
        "    @qml.qnode(dev)\n",
        "    def circuit(params):\n",
        "        # Apply Hadamard gates to all qubits\n",
        "        for i in range(n_qubits):\n",
        "            qml.Hadamard(wires=i)\n",
        "\n",
        "        # Apply the first layer of RY gates based on the parameters\n",
        "        # Adjusting for the missing 10th parameter by using the last parameter for the 9th and 10th qubit\n",
        "        for i in range(n_qubits - 1):  # Apply parameters to first 9 qubits directly\n",
        "            qml.RY(params[0, i], wires=i)\n",
        "        qml.RY(params[0, -1], wires=9)  # Use the last parameter for the 10th qubit as well\n",
        "\n",
        "        # Define CNOT gates as specified\n",
        "        qml.CNOT(wires=[0, 1])\n",
        "        qml.CNOT(wires=[1, 2])\n",
        "        qml.CNOT(wires=[2, 3])\n",
        "        qml.CNOT(wires=[3, 4])\n",
        "        qml.CNOT(wires=[4, 9])\n",
        "        qml.CNOT(wires=[9, 8])\n",
        "        qml.CNOT(wires=[8, 7])\n",
        "        # The following CNOT gates repeat some operations, ensure this is intended\n",
        "        qml.CNOT(wires=[7, 8])\n",
        "        qml.CNOT(wires=[8, 7])\n",
        "        qml.CNOT(wires=[7, 6])\n",
        "        qml.CNOT(wires=[6, 5])\n",
        "        qml.CNOT(wires=[5, 0])\n",
        "\n",
        "        # Apply the second layer of RY gates with parameters, similarly handling the 10th qubit\n",
        "        for i in range(n_qubits - 1):  # Apply parameters to first 9 qubits directly\n",
        "            qml.RY(params[1, i], wires=i)\n",
        "        qml.RY(params[1, -1], wires=9)  # Use the last parameter for the 10th qubit as well\n",
        "\n",
        "        return qml.state()\n",
        "\n",
        "    return circuit\n",
        "\n",
        "# Generate random parameters for the ansatz, with an adjustment for the 10th qubit\n",
        "params = np.random.rand(2, 9)\n",
        "\n",
        "# Create the ansatz circuit\n",
        "ansatz = ProteinConfigAnsatz(params)\n",
        "\n",
        "# Drawing the circuit to visualize its structure\n",
        "print(qml.draw(ansatz)(params))\n"
      ],
      "metadata": {
        "colab": {
          "base_uri": "https://localhost:8080/"
        },
        "id": "orkeApnQ8Ary",
        "outputId": "acd0c41a-9b21-42fe-a59b-411cd64de790"
      },
      "execution_count": 12,
      "outputs": [
        {
          "output_type": "stream",
          "name": "stdout",
          "text": [
            "0: ──H──RY(0.74)─╭●────────────────────────────────────────────────────╭X─────────RY(0.34)─┤  State\n",
            "1: ──H──RY(0.91)─╰X─╭●─────────────────────────────────────────────────│──────────RY(0.95)─┤  State\n",
            "2: ──H──RY(0.46)────╰X─╭●──────────────────────────────────────────────│──────────RY(0.96)─┤  State\n",
            "3: ──H──RY(0.26)───────╰X─╭●───────────────────────────────────────────│──────────RY(0.38)─┤  State\n",
            "4: ──H──RY(0.56)──────────╰X─╭●────────────────────────────────────────│──────────RY(0.10)─┤  State\n",
            "5: ──H──RY(0.09)─────────────│───────────────────────────────╭X────────╰●─────────RY(0.75)─┤  State\n",
            "6: ──H──RY(0.52)─────────────│─────────────────────╭X────────╰●─────────RY(0.34)───────────┤  State\n",
            "7: ──H──RY(0.19)─────────────│─────╭X────────╭●─╭X─╰●─────────RY(0.15)─────────────────────┤  State\n",
            "8: ──H──RY(0.67)─────────────│──╭X─╰●────────╰X─╰●──RY(0.32)───────────────────────────────┤  State\n",
            "9: ──H──RY(0.67)─────────────╰X─╰●──RY(0.32)───────────────────────────────────────────────┤  State\n"
          ]
        }
      ]
    },
    {
      "cell_type": "code",
      "source": [],
      "metadata": {
        "id": "rnC4pJ6m8AMS"
      },
      "execution_count": null,
      "outputs": []
    },
    {
      "cell_type": "markdown",
      "source": [
        "# Acknowledgements"
      ],
      "metadata": {
        "id": "XtOkX13U7ydC"
      }
    },
    {
      "cell_type": "markdown",
      "source": [
        "Code is adapted from [MATLAB Community tutorial](https://www.mathworks.com/help/matlab/math/ground-state-protein-folding-using-variational-quantum-eigensolver-vqe.html#mw_d653153e-02d5-4350-8476-448e19c5b005) based on the paper [Resource-Efficient Quantum Algorithm for Protein Folding](https://arxiv.org/abs/1908.02163) Robert et al. from IBM Zurich Team."
      ],
      "metadata": {
        "id": "OMcMJW-h5muf"
      }
    }
  ]
}